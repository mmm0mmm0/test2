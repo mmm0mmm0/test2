{
 "cells": [
  {
   "cell_type": "code",
   "execution_count": 209,
   "metadata": {},
   "outputs": [],
   "source": [
    "import random\n",
    "import matplotlib.pyplot as plt\n",
    "import numpy as np"
   ]
  },
  {
   "cell_type": "code",
   "execution_count": 210,
   "metadata": {},
   "outputs": [],
   "source": [
    "# define borders, where hidden number could be\n",
    "min_border_number = 1\n",
    "max_border_number = 100\n",
    "\n",
    "# quantity of checks.\n",
    "# it will be used in comparing results of 'game_core_v2' engine and mine\n",
    "number_of_checks = 1000"
   ]
  },
  {
   "cell_type": "code",
   "execution_count": 133,
   "metadata": {},
   "outputs": [],
   "source": [
    "# the function to generate random number in some borders\n",
    "\n",
    "# to generate random number in range [1, 10], use this function like:\n",
    "# generate_random_number(1, 10)\n",
    "# return (int)\n",
    "\n",
    "def generate_random_number(min_border, max_border):\n",
    "    return (random.randint(min_border, max_border))"
   ]
  },
  {
   "cell_type": "code",
   "execution_count": 213,
   "metadata": {},
   "outputs": [],
   "source": [
    "# the function to generate random number in some borders and find out that number with minimum count steps\n",
    "\n",
    "# to use in this way:\n",
    "# find_out_hidden_number(15, 10, 20)\n",
    "# where:\n",
    "# 15 - hidden numner\n",
    "# 10, 20 - borders, which used to find out hidden numbers\n",
    "# return (int1, int2)\n",
    "# int1 - hidden number, that really was find by function\n",
    "# int2 - cycle quantity steps to find out hidden number\n",
    "\n",
    "def find_out_hidden_number(hidden_number, min_border, max_border):\n",
    "    \n",
    "    # temporary variables\n",
    "    count = 1\n",
    "    temp_min = min_border\n",
    "    temp_max = max_border\n",
    "\n",
    "    while True:\n",
    "        predict = int ((temp_max + temp_min) / 2)\n",
    "        \n",
    "        if (hidden_number == predict): # hidden numer has been found\n",
    "            break\n",
    "        elif (hidden_number > predict): # hidden number didn find\n",
    "            temp_min = predict + 1\n",
    "        else:\n",
    "            temp_max = predict - 1\n",
    "            \n",
    "        count += 1\n",
    "    \n",
    "    return (count, predict)"
   ]
  },
  {
   "cell_type": "code",
   "execution_count": 221,
   "metadata": {},
   "outputs": [],
   "source": [
    "# the function, that find out hidden number randomly (reworked example) - 'game_core_v2'\n",
    "\n",
    "# to use in this way:\n",
    "# game_core_v2(15, 10, 20)\n",
    "# where:\n",
    "# 15 - hidden numner\n",
    "# 10, 20 - borders, which used to find out hidden numbers\n",
    "# return (int1, int2)\n",
    "# int1 - hidden number, that really was find by function\n",
    "# int2 - cycle quantity steps to find out hidden number\n",
    "\n",
    "def game_core_v2(hidden_number, min_border, max_border):\n",
    "    '''Сначала устанавливаем любое random число, а потом уменьшаем или увеличиваем его в зависимости от того, больше оно или меньше нужного.\n",
    "       Функция принимает загаданное число и возвращает число попыток'''\n",
    "    \n",
    "    count = 1\n",
    "    predict = generate_random_number(min_border, max_border)\n",
    "    while hidden_number != predict:\n",
    "        count+=1\n",
    "        if hidden_number > predict: \n",
    "            predict += 1\n",
    "        elif hidden_number < predict: \n",
    "            predict -= 1\n",
    "    return (count, predict) # выход из цикла, если угадали"
   ]
  },
  {
   "cell_type": "code",
   "execution_count": 237,
   "metadata": {},
   "outputs": [
    {
     "name": "stdout",
     "output_type": "stream",
     "text": [
      "Let's check, does 'find_out_hidden_number()' function could \n",
      "find specified number (i.e. 15), and how many steps it needs for this.\n",
      "\n",
      "Yes, it works!\n",
      "The hidden number 15 has been found for 5 cycle steps.\n",
      "\n",
      "Let's compare the same result for function 'game_core_v2()'\n",
      "\n",
      "Yes, it also works!\n",
      "The hidden number 15 has been found for 84 cycle steps.\n",
      "\n",
      "As wee see, the function 'game_core_v2()' a bit slowly, \n",
      "because do 79 steps to find out hidden number than function 'find_out_hidden_number()'\n"
     ]
    }
   ],
   "source": [
    "# lets check the function 'find_out_hidden_number()'\n",
    "\n",
    "print (\"Let's check, does 'find_out_hidden_number()' function could \")\n",
    "print (\"find specified number (i.e. 15), and how many steps it needs for this.\\n\")\n",
    "\n",
    "count1, hidden_number = find_out_hidden_number(hidden_number=15, min_border=min_border_number, \\\n",
    "                                     max_border=max_border_number)\n",
    "\n",
    "print (\"Yes, it works!\")\n",
    "print (\"The hidden number %s has been found for %s cycle steps.\\n\" % (hidden_number, count1))\n",
    "\n",
    "print (\"Let's compare the same result for function 'game_core_v2()'\\n\")\n",
    "\n",
    "count2, hidden_number = game_core_v2(hidden_number=15, min_border=min_border_number, \\\n",
    "                                     max_border=max_border_number)\n",
    "\n",
    "print (\"Yes, it also works!\")\n",
    "print (\"The hidden number %s has been found for %s cycle steps.\\n\" % (hidden_number, count2))\n",
    "\n",
    "print (\"As wee see, the function 'game_core_v2()' a bit slowly, \")\n",
    "print (\"because do %s steps to find out hidden number than function 'find_out_hidden_number()'\" % (count2 - count1))"
   ]
  },
  {
   "cell_type": "code",
   "execution_count": 243,
   "metadata": {},
   "outputs": [
    {
     "name": "stdout",
     "output_type": "stream",
     "text": [
      "Lets compare result of those functions in a big amounts executions, i.e. 1000\n",
      "\n",
      "The result will be append in next lists:\n",
      "'function_data[]' - for function 'find_out_hidden_number()'\n",
      "'function_data_gc_v2[]' - for function 'game_core_v2'\n"
     ]
    }
   ],
   "source": [
    "print (\"Lets compare result of those functions in a big amounts executions, i.e. %s\\n\" % number_of_checks)\n",
    "\n",
    "\n",
    "# data lists for functions 'find_out_hidden_number()' and 'game_core_v2'\n",
    "function_data = []\n",
    "function_data_gc_v2 = []\n",
    "\n",
    "for iterator in range(number_of_checks):\n",
    "    temp_dict = {}\n",
    "    temp_dict_gc_v2 = {}\n",
    "    \n",
    "    # generating hidden number\n",
    "    hidden_number = generate_random_number(min_border_number, max_border_number) \n",
    "    temp_dict['count'], temp_dict['hidden_number'] = \\\n",
    "        find_out_hidden_number(hidden_number, min_border=min_border_number, max_border=max_border_number)\n",
    "    temp_dict_gc_v2['count'], temp_dict_gc_v2['hidden_number'] = \\\n",
    "        game_core_v2(hidden_number, min_border=min_border_number, max_border=max_border_number)\n",
    "    \n",
    "    # appending results\n",
    "    function_data.append(temp_dict)\n",
    "    function_data_gc_v2.append(temp_dict_gc_v2)\n",
    "    \n",
    "    \n",
    "print (\"The result will be append in next lists:\")\n",
    "print (\"'function_data[]' - for function 'find_out_hidden_number()'\")\n",
    "print (\"'function_data_gc_v2[]' - for function 'game_core_v2'\")"
   ]
  },
  {
   "cell_type": "code",
   "execution_count": 249,
   "metadata": {},
   "outputs": [
    {
     "name": "stdout",
     "output_type": "stream",
     "text": [
      "Get dictionaries in which we will store data on the operation of both functions\n",
      "\n",
      "Distribution of 'counts: quantities(%)' for function 'find_out_hidden_number()'\n",
      "{1: 1.0} {2: 2.3} {3: 3.6} {4: 8.8} {5: 15.9} {6: 32.4} {7: 36.0} \n",
      "\n",
      "Distribution of 'counts: quantities(%)' for function 'game_core_v2'\n",
      "{1: 1.0} {2: 2.4} {3: 1.3} {4: 2.2} {5: 1.4} {6: 1.3} {7: 1.4} {8: 1.5} {9: 2.2} {10: 1.2} {11: 1.8} {12: 1.2} {13: 2.0} {14: 1.7} {15: 2.3} {16: 2.1} {17: 1.8} {18: 1.5} {19: 1.8} {20: 2.2} {21: 1.1} {22: 1.6} {23: 0.9} {24: 2.1} {25: 1.9} {26: 0.6} {27: 1.6} {28: 1.5} {29: 0.8} {30: 1.6} {31: 1.7} {32: 2.1} {33: 0.9} {34: 1.2} {35: 0.9} {36: 1.5} {37: 1.8} {38: 1.3} {39: 1.9} {40: 0.9} {41: 1.1} {42: 1.0} {43: 1.9} {44: 0.8} {45: 1.0} {46: 1.6} {47: 0.7} {48: 1.3} {49: 1.2} {50: 0.9} {51: 1.2} {52: 1.5} {53: 0.6} {54: 0.8} {55: 1.2} {56: 0.7} {57: 1.6} {58: 1.4} {59: 1.0} {60: 0.8} {61: 0.7} {62: 0.8} {63: 0.8} {64: 0.9} {65: 0.7} {66: 0.8} {67: 0.7} {68: 1.0} {69: 0.8} {70: 0.1} {71: 0.7} {72: 0.4} {73: 0.9} {74: 0.7} {75: 0.7} {76: 0.4} {77: 0.5} {78: 0.2} {79: 0.4} {80: 0.1} {81: 0.5} {83: 0.5} {84: 0.3} {85: 0.1} {86: 0.5} {87: 0.4} {88: 0.1} {89: 0.3} {91: 0.1} {92: 0.2} {93: 0.1} {99: 0.1} "
     ]
    }
   ],
   "source": [
    "print (\"Get dictionaries in which we will store data on the operation of both functions\\n\")\n",
    "\n",
    "# \n",
    "function_data_counts = {}\n",
    "function_data_hidden_numbers = {}\n",
    "function_data_counts_sorted = {}\n",
    "function_data_hidden_numbers_sorted = {}\n",
    "function_data_counts_gc_v2 = {}\n",
    "function_data_hidden_numbers_gc_v2 = {}\n",
    "function_data_counts_sorted_gc_v2 = {}\n",
    "function_data_hidden_numbers_sorted_gc_v2 = {}\n",
    "\n",
    "for iterator in function_data:\n",
    "    count = iterator['count']\n",
    "    hidden_number = iterator['hidden_number']\n",
    "    \n",
    "    if (count in function_data_counts):\n",
    "        function_data_counts[count] += 1\n",
    "    else:\n",
    "        function_data_counts[count] = 1\n",
    "    \n",
    "    if (hidden_number in function_data_hidden_numbers):\n",
    "        function_data_hidden_numbers[hidden_number] += 1\n",
    "    else:\n",
    "        function_data_hidden_numbers[hidden_number] = 1\n",
    "\n",
    "        \n",
    "print (\"Distribution of 'counts: quantities(%)' for function 'find_out_hidden_number()'\")\n",
    "for iterator in range(min(function_data_counts.keys()), max(function_data_counts.keys())+1):\n",
    "    print (\"{%s: %s}\" % (iterator, round((function_data_counts[iterator] / number_of_checks) * 100, 1)), end=' ')\n",
    "    function_data_counts_sorted[iterator] = function_data_counts[iterator]\n",
    "\n",
    "# print (\"\\n\\nDictionary of hidden numbers: quantity of hidden numbers (%)\")\n",
    "for iterator in range(min(function_data_hidden_numbers.keys()), max(function_data_hidden_numbers.keys())+1):\n",
    "#     print (\"{%s: %s}\" % (iterator, round((function_data_hidden_numbers[iterator] / number_of_checks) * 100, 1)), \\\n",
    "#            end=' ')\n",
    "    function_data_hidden_numbers_sorted[iterator] = function_data_hidden_numbers[iterator]\n",
    "    \n",
    "    \n",
    "for iterator in function_data_gc_v2:\n",
    "    count = iterator['count']\n",
    "    hidden_number = iterator['hidden_number']\n",
    "    \n",
    "    if (count in function_data_counts_gc_v2):\n",
    "        function_data_counts_gc_v2[count] += 1\n",
    "    else:\n",
    "        function_data_counts_gc_v2[count] = 1\n",
    "    \n",
    "    if (hidden_number in function_data_hidden_numbers_gc_v2):\n",
    "        function_data_hidden_numbers_gc_v2[hidden_number] += 1\n",
    "    else:\n",
    "        function_data_hidden_numbers_gc_v2[hidden_number] = 1\n",
    "\n",
    "        \n",
    "print (\"\\n\\nDistribution of 'counts: quantities(%)' for function 'game_core_v2'\")\n",
    "for iterator in range(min(function_data_counts_gc_v2.keys()), max(function_data_counts_gc_v2.keys())+1):\n",
    "    if (iterator in function_data_counts_gc_v2.keys()):\n",
    "        print (\"{%s: %s}\" % (iterator, round((function_data_counts_gc_v2[iterator] / number_of_checks) * 100, 1)),\\\n",
    "               end=' ')\n",
    "        function_data_counts_sorted_gc_v2[iterator] = function_data_counts_gc_v2[iterator]\n",
    "\n",
    "# print (\"\\n\\nDictionary of hidden numbers: quantity of hidden numbers (%)\")\n",
    "for iterator in range(min(function_data_hidden_numbers_gc_v2.keys()), \\\n",
    "                      max(function_data_hidden_numbers_gc_v2.keys())+1):\n",
    "    if (iterator in function_data_hidden_numbers_gc_v2.keys()):\n",
    "#         print (\"{%s: %s}\" % (iterator, \\\n",
    "#                         round((function_data_hidden_numbers_gc_v2[iterator] / number_of_checks) * 100, 1)), end=' ')\n",
    "        function_data_hidden_numbers_sorted_gc_v2[iterator] = function_data_hidden_numbers_gc_v2[iterator]"
   ]
  },
  {
   "cell_type": "code",
   "execution_count": 251,
   "metadata": {},
   "outputs": [
    {
     "name": "stdout",
     "output_type": "stream",
     "text": [
      "Let's get variance, mean and standart deviation for data of both functions.\n",
      "\n",
      "'find_out_hidden_number()' : \n",
      "variance : 18095.55\n",
      "mean : 142.86\n",
      "std : 134.52\n",
      "\n",
      "'game_core_v2' : \n",
      "variance : 23.06\n",
      "mean : 15.71\n",
      "std : 4.8\n"
     ]
    }
   ],
   "source": [
    "print (\"Let's get variance, mean and standart deviation for data of both functions.\\n\")\n",
    "\n",
    "temp_list = [function_data_counts[iterator] for iterator in function_data_counts.keys()]\n",
    "temp_list_gc_v2 = [function_data_counts_gc_v2[iterator] for iterator in function_data_counts.keys()]\n",
    "\n",
    "print (\"'find_out_hidden_number()' : \")\n",
    "print (\"variance : %s\" % round(np.var(temp_list), 2))\n",
    "print (\"mean : %s\" % round(np.mean(temp_list), 2))\n",
    "print (\"std : %s\" % round(np.std(temp_list), 2))\n",
    "\n",
    "print (\"\\n'game_core_v2' : \")\n",
    "print (\"variance : %s\" % round(np.var(temp_list_gc_v2), 2))\n",
    "print (\"mean : %s\" % round(np.mean(temp_list_gc_v2), 2))\n",
    "print (\"std : %s\" % round(np.std(temp_list_gc_v2), 2))"
   ]
  },
  {
   "cell_type": "code",
   "execution_count": 257,
   "metadata": {},
   "outputs": [
    {
     "name": "stdout",
     "output_type": "stream",
     "text": [
      "And finnaly, lest build a graphs showing the number of steps to find the hidden number (in percent)\n",
      "relative to all other values.\n",
      "\n",
      "For function 'find_out_hidden_number()'\n"
     ]
    },
    {
     "data": {
      "text/plain": [
       "[<matplotlib.lines.Line2D at 0x13f11908>]"
      ]
     },
     "execution_count": 257,
     "metadata": {},
     "output_type": "execute_result"
    },
    {
     "data": {
      "image/png": "[encoded data removed]",
      "text/plain": [
       "<Figure size 432x288 with 1 Axes>"
      ]
     },
     "metadata": {
      "needs_background": "light"
     },
     "output_type": "display_data"
    }
   ],
   "source": [
    "print (\"And finnaly, lest build a graphs showing the number of steps to find the hidden number (in percent)\")\n",
    "print (\"relative to all other values.\\n\")\n",
    "\n",
    "print (\"For function 'find_out_hidden_number()'\")\n",
    "plt.plot([iterator for iterator in function_data_counts_sorted.keys()], \\\n",
    "         [((function_data_counts_sorted[iterator] / number_of_checks) * 100) for iterator in function_data_counts_sorted.keys()])"
   ]
  },
  {
   "cell_type": "code",
   "execution_count": 258,
   "metadata": {},
   "outputs": [
    {
     "name": "stdout",
     "output_type": "stream",
     "text": [
      "For function ''game_core_v2()'\n"
     ]
    },
    {
     "data": {
      "text/plain": [
       "[<matplotlib.lines.Line2D at 0x13ecfec8>]"
      ]
     },
     "execution_count": 258,
     "metadata": {},
     "output_type": "execute_result"
    },
    {
     "data": {
      "image/png": "[encoded data removed]",
      "text/plain": [
       "<Figure size 432x288 with 1 Axes>"
      ]
     },
     "metadata": {
      "needs_background": "light"
     },
     "output_type": "display_data"
    }
   ],
   "source": [
    "print (\"For function ''game_core_v2()'\")\n",
    "plt.plot([iterator for iterator in function_data_counts_sorted_gc_v2.keys()], \\\n",
    "         [((function_data_counts_sorted_gc_v2[iterator] / number_of_checks) * 100) \\\n",
    "          for iterator in function_data_counts_sorted_gc_v2.keys()])"
   ]
  },
  {
   "cell_type": "code",
   "execution_count": null,
   "metadata": {},
   "outputs": [],
   "source": []
  },
  {
   "cell_type": "code",
   "execution_count": null,
   "metadata": {},
   "outputs": [],
   "source": []
  },
  {
   "cell_type": "code",
   "execution_count": null,
   "metadata": {},
   "outputs": [],
   "source": []
  },
  {
   "cell_type": "code",
   "execution_count": null,
   "metadata": {},
   "outputs": [],
   "source": []
  },
  {
   "cell_type": "code",
   "execution_count": null,
   "metadata": {},
   "outputs": [],
   "source": []
  },
  {
   "cell_type": "code",
   "execution_count": null,
   "metadata": {},
   "outputs": [],
   "source": []
  },
  {
   "cell_type": "code",
   "execution_count": null,
   "metadata": {},
   "outputs": [],
   "source": []
  },
  {
   "cell_type": "code",
   "execution_count": null,
   "metadata": {},
   "outputs": [],
   "source": []
  }
 ],
 "metadata": {
  "kernelspec": {
   "display_name": "Python 3",
   "language": "python",
   "name": "python3"
  },
  "language_info": {
   "codemirror_mode": {
    "name": "ipython",
    "version": 3
   },
   "file_extension": ".py",
   "mimetype": "text/x-python",
   "name": "python",
   "nbconvert_exporter": "python",
   "pygments_lexer": "ipython3",
   "version": "3.7.7"
  }
 },
 "nbformat": 4,
 "nbformat_minor": 4
}
